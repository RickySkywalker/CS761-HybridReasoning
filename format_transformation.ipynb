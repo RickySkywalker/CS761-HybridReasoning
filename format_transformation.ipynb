{
 "cells": [
  {
   "cell_type": "code",
   "execution_count": null,
   "id": "fac557cf",
   "metadata": {},
   "outputs": [
    {
     "name": "stdout",
     "output_type": "stream",
     "text": [
      "INFO 05-03 12:40:26 __init__.py:190] Automatically detected platform cuda.\n"
     ]
    }
   ],
   "source": [
    "from vllm import LLM, SamplingParams\n",
    "from transformers import AutoTokenizer\n",
    "import os\n",
    "import utils\n",
    "\n",
    "os.environ[\"CUDA_VISIBLE_DEVICES\"] = \"0\""
   ]
  },
  {
   "cell_type": "code",
   "execution_count": 2,
   "id": "6ddbaed5",
   "metadata": {},
   "outputs": [
    {
     "name": "stdout",
     "output_type": "stream",
     "text": [
      "INFO 05-03 12:40:42 config.py:542] This model supports multiple tasks: {'classify', 'reward', 'score', 'generate', 'embed'}. Defaulting to 'generate'.\n",
      "WARNING 05-03 12:40:42 arg_utils.py:1135] Chunked prefill is enabled by default for models with max_model_len > 32K. Currently, chunked prefill might not work with some features or models. If you encounter any issues, please disable chunked prefill by setting --enable-chunked-prefill=False.\n",
      "INFO 05-03 12:40:42 config.py:1556] Chunked prefill is enabled with max_num_batched_tokens=2048.\n",
      "INFO 05-03 12:40:42 llm_engine.py:234] Initializing a V0 LLM engine (v0.7.2) with config: model='./data/models/Qwen3-8B', speculative_config=None, tokenizer='./data/models/Qwen3-8B', skip_tokenizer_init=False, tokenizer_mode=auto, revision=None, override_neuron_config=None, tokenizer_revision=None, trust_remote_code=False, dtype=torch.bfloat16, max_seq_len=40960, download_dir=None, load_format=auto, tensor_parallel_size=1, pipeline_parallel_size=1, disable_custom_all_reduce=False, quantization=None, enforce_eager=False, kv_cache_dtype=auto,  device_config=cuda, decoding_config=DecodingConfig(guided_decoding_backend='xgrammar'), observability_config=ObservabilityConfig(otlp_traces_endpoint=None, collect_model_forward_time=False, collect_model_execute_time=False), seed=0, served_model_name=./data/models/Qwen3-8B, num_scheduler_steps=1, multi_step_stream_outputs=True, enable_prefix_caching=False, chunked_prefill_enabled=True, use_async_output_proc=True, disable_mm_preprocessor_cache=False, mm_processor_kwargs=None, pooler_config=None, compilation_config={\"splitting_ops\":[],\"compile_sizes\":[],\"cudagraph_capture_sizes\":[256,248,240,232,224,216,208,200,192,184,176,168,160,152,144,136,128,120,112,104,96,88,80,72,64,56,48,40,32,24,16,8,4,2,1],\"max_capture_size\":256}, use_cached_outputs=False, \n",
      "INFO 05-03 12:40:44 cuda.py:230] Using Flash Attention backend.\n",
      "INFO 05-03 12:40:44 model_runner.py:1110] Starting to load model ./data/models/Qwen3-8B...\n",
      "WARNING 05-03 12:40:44 utils.py:69] Qwen3ForCausalLM has no vLLM implementation, falling back to Transformers implementation. Some features may not be supported and performance may not be optimal.\n",
      "INFO 05-03 12:40:44 transformers.py:132] Using Transformers backend.\n"
     ]
    },
    {
     "data": {
      "application/vnd.jupyter.widget-view+json": {
       "model_id": "d6432f65a0a74d8f9a1e6b253a91ca68",
       "version_major": 2,
       "version_minor": 0
      },
      "text/plain": [
       "Loading safetensors checkpoint shards:   0% Completed | 0/5 [00:00<?, ?it/s]\n"
      ]
     },
     "metadata": {},
     "output_type": "display_data"
    },
    {
     "name": "stdout",
     "output_type": "stream",
     "text": [
      "INFO 05-03 12:41:03 model_runner.py:1115] Loading model weights took 15.2585 GB\n",
      "INFO 05-03 12:41:04 worker.py:267] Memory profiling takes 1.34 seconds\n",
      "INFO 05-03 12:41:04 worker.py:267] the current vLLM instance can use total_gpu_memory (47.53GiB) x gpu_memory_utilization (0.90) = 42.78GiB\n",
      "INFO 05-03 12:41:04 worker.py:267] model weights take 15.26GiB; non_torch_memory takes 0.06GiB; PyTorch activation peak memory takes 1.40GiB; the rest of the memory reserved for KV Cache is 26.06GiB.\n",
      "INFO 05-03 12:41:04 executor_base.py:110] # CUDA blocks: 11859, # CPU blocks: 1820\n",
      "INFO 05-03 12:41:04 executor_base.py:115] Maximum concurrency for 40960 tokens per request: 4.63x\n",
      "INFO 05-03 12:41:06 model_runner.py:1434] Capturing cudagraphs for decoding. This may lead to unexpected consequences if the model is not static. To run the model in eager mode, set 'enforce_eager=True' or use '--enforce-eager' in the CLI. If out-of-memory error occurs during cudagraph capture, consider decreasing `gpu_memory_utilization` or switching to eager mode. You can also reduce the `max_num_seqs` as needed to decrease memory usage.\n"
     ]
    },
    {
     "name": "stderr",
     "output_type": "stream",
     "text": [
      "Capturing CUDA graph shapes: 100%|██████████| 35/35 [00:16<00:00,  2.09it/s]"
     ]
    },
    {
     "name": "stdout",
     "output_type": "stream",
     "text": [
      "INFO 05-03 12:41:23 model_runner.py:1562] Graph capturing finished in 17 secs, took 0.71 GiB\n",
      "INFO 05-03 12:41:23 llm_engine.py:431] init engine (profile, create kv cache, warmup model) took 19.89 seconds\n"
     ]
    },
    {
     "name": "stderr",
     "output_type": "stream",
     "text": [
      "\n"
     ]
    }
   ],
   "source": [
    "model_name = \"./data/models/Qwen3-8B\"\n",
    "model = LLM(model_name)\n",
    "tokenizer = AutoTokenizer.from_pretrained(model_name, trust_remote_code=True)"
   ]
  },
  {
   "cell_type": "code",
   "execution_count": 3,
   "id": "0f460d2b",
   "metadata": {},
   "outputs": [],
   "source": [
    "import utils"
   ]
  },
  {
   "cell_type": "code",
   "execution_count": 4,
   "id": "485858ba",
   "metadata": {},
   "outputs": [],
   "source": [
    "math_500 = utils.read_from_json(\"./data/Math-500.json\")"
   ]
  },
  {
   "cell_type": "code",
   "execution_count": 5,
   "id": "68e143f7",
   "metadata": {},
   "outputs": [
    {
     "data": {
      "text/plain": [
       "{'problem': 'Convert the point $(0,3)$ in rectangular coordinates to polar coordinates.  Enter your answer in the form $(r,\\\\theta),$ where $r > 0$ and $0 \\\\le \\\\theta < 2 \\\\pi.$',\n",
       " 'solution': 'We have that $r = \\\\sqrt{0^2 + 3^2} = 3.$  Also, if we draw the line connecting the origin and $(0,3),$ this line makes an angle of $\\\\frac{\\\\pi}{2}$ with the positive $x$-axis.\\n\\n[asy]\\nunitsize(0.8 cm);\\n\\ndraw((-0.5,0)--(3.5,0));\\ndraw((0,-0.5)--(0,3.5));\\ndraw(arc((0,0),3,0,90),red,Arrow(6));\\n\\ndot((0,3), red);\\nlabel(\"$(0,3)$\", (0,3), W);\\ndot((3,0), red);\\n[/asy]\\n\\nTherefore, the polar coordinates are $\\\\boxed{\\\\left( 3, \\\\frac{\\\\pi}{2} \\\\right)}.$',\n",
       " 'answer': '\\\\left( 3, \\\\frac{\\\\pi}{2} \\\\right)',\n",
       " 'subject': 'Precalculus',\n",
       " 'level': 2,\n",
       " 'unique_id': 'test/precalculus/807.json'}"
      ]
     },
     "execution_count": 5,
     "metadata": {},
     "output_type": "execute_result"
    }
   ],
   "source": [
    "math_500[0]"
   ]
  },
  {
   "cell_type": "code",
   "execution_count": 6,
   "id": "e224bc1b",
   "metadata": {},
   "outputs": [
    {
     "name": "stdout",
     "output_type": "stream",
     "text": [
      "<|im_start|>user\n",
      "@ Question-answering problem:\n",
      "```md\n",
      "Convert the point $(0,3)$ in rectangular coordinates to polar coordinates. Enter your answer in the form $(r,\theta),$ where $r > 0$ and $0 \\le \theta < 2 \\pi.$\n",
      "```\n",
      "\n",
      "@ Existence problem:\n",
      "```md\n",
      "Prove the existence of the point in polar coordinates $(r,\theta),$ where $r > 0$ and $0 \\le \theta < 2 \\pi.$ for the point $(0,3)$ in rectangular coordinates.\n",
      "```\n",
      "\n",
      "===\n",
      "\n",
      "@ Question-answering problem:\n",
      "```md\n",
      "Define\n",
      "\\[p = \\sum_{k = 1}^\\infty \frac{1}{k^2} \\quad \text{and} \\quad q = \\sum_{k = 1}^\\infty \frac{1}{k^3}.\\]Find a way to write\n",
      "\\[\\sum_{j = 1}^\\infty \\sum_{k = 1}^\\infty \frac{1}{(j + k)^3}\\]in terms of $p$ and $q.$\n",
      "```\n",
      "\n",
      "@ Existence problem:\n",
      "```md\n",
      "Define\n",
      "\\[p = \\sum_{k = 1}^\\infty \frac{1}{k^2} \\quad \text{and} \\quad q = \\sum_{k = 1}^\\infty \frac{1}{k^3}.\\] Prove that \\[\\sum_{j = 1}^\\infty \\sum_{k = 1}^\\infty \frac{1}{(j + k)^3}\\] can be represented in terms of $p$ and $q$.\n",
      "```\n",
      "\n",
      "===\n",
      "\n",
      "@ Question-answering problem:\n",
      "```md\n",
      "If $f(x) = \frac{3x-2}{x-2}$, what is the value of $f(-2) +f(-1)+f(0)$? Express your answer as a common fraction.\n",
      "```\n",
      "\n",
      "@ Existence problem:\n",
      "```md\n",
      "Define $f(x) = \frac{3x-2}{x-2}$. Prove that there exists $ y = f(-2) + f(-1) + f(0)$ and $y$ can be expressed as a common fraction.\n",
      "```\n",
      "\n",
      "===\n",
      "\n",
      "@ Question-answering problem:\n",
      "```md\n",
      "Convert the point $(0,3)$ in rectangular coordinates to polar coordinates.  Enter your answer in the form $(r,\\theta),$ where $r > 0$ and $0 \\le \\theta < 2 \\pi.$\n",
      "```\n",
      "\n",
      "Based on the above examples, translate the QA problem into existence proble then, put it in a markdown code block as the examples.<|im_end|>\n",
      "<|im_start|>assistant\n",
      "\n"
     ]
    }
   ],
   "source": [
    "prompt = \"\"\"@ Question-answering problem:\n",
    "```md\n",
    "Convert the point $(0,3)$ in rectangular coordinates to polar coordinates. Enter your answer in the form $(r,\\theta),$ where $r > 0$ and $0 \\le \\theta < 2 \\pi.$\n",
    "```\n",
    "\n",
    "@ Existence problem:\n",
    "```md\n",
    "Prove the existence of the point in polar coordinates $(r,\\theta),$ where $r > 0$ and $0 \\le \\theta < 2 \\pi.$ for the point $(0,3)$ in rectangular coordinates.\n",
    "```\n",
    "\n",
    "===\n",
    "\n",
    "@ Question-answering problem:\n",
    "```md\n",
    "Define\n",
    "\\[p = \\sum_{k = 1}^\\infty \\frac{1}{k^2} \\quad \\text{and} \\quad q = \\sum_{k = 1}^\\infty \\frac{1}{k^3}.\\]Find a way to write\n",
    "\\[\\sum_{j = 1}^\\infty \\sum_{k = 1}^\\infty \\frac{1}{(j + k)^3}\\]in terms of $p$ and $q.$\n",
    "```\n",
    "\n",
    "@ Existence problem:\n",
    "```md\n",
    "Define\n",
    "\\[p = \\sum_{k = 1}^\\infty \\frac{1}{k^2} \\quad \\text{and} \\quad q = \\sum_{k = 1}^\\infty \\frac{1}{k^3}.\\] Prove that \\[\\sum_{j = 1}^\\infty \\sum_{k = 1}^\\infty \\frac{1}{(j + k)^3}\\] can be represented in terms of $p$ and $q$.\n",
    "```\n",
    "\n",
    "===\n",
    "\n",
    "@ Question-answering problem:\n",
    "```md\n",
    "If $f(x) = \\frac{3x-2}{x-2}$, what is the value of $f(-2) +f(-1)+f(0)$? Express your answer as a common fraction.\n",
    "```\n",
    "\n",
    "@ Existence problem:\n",
    "```md\n",
    "Define $f(x) = \\frac{3x-2}{x-2}$. Prove that there exists $ y = f(-2) + f(-1) + f(0)$ and $y$ can be expressed as a common fraction.\n",
    "```\n",
    "\n",
    "===\"\"\" + f\"\"\"\n",
    "\n",
    "@ Question-answering problem:\n",
    "```md\n",
    "{math_500[0]['problem']}\n",
    "```\n",
    "\n",
    "Based on the above examples, translate the QA problem into existence proble then, put it in a markdown code block as the examples.\"\"\"\n",
    "\n",
    "messages = [\n",
    "    {\"role\": \"user\", \"content\": prompt}\n",
    "]\n",
    "\n",
    "text = tokenizer.apply_chat_template(\n",
    "    messages,\n",
    "    tokenize=False,\n",
    "    add_generation_prompt=True, \n",
    "    enable_thinking=True\n",
    ")\n",
    "\n",
    "print(text)"
   ]
  },
  {
   "cell_type": "code",
   "execution_count": null,
   "id": "315d9f4b",
   "metadata": {},
   "outputs": [
    {
     "name": "stderr",
     "output_type": "stream",
     "text": [
      "Processed prompts: 100%|██████████| 1/1 [00:19<00:00, 19.21s/it, est. speed input: 31.14 toks/s, output: 35.15 toks/s]\n"
     ]
    }
   ],
   "source": [
    "sampling_params = SamplingParams(temperature=0.6, top_p=0.95, max_tokens=8096)\n",
    "output = model.generate(text, sampling_params=sampling_params)\n",
    "output_text = output[0].outputs[0].text\n",
    "print(output_text)"
   ]
  },
  {
   "cell_type": "code",
   "execution_count": 9,
   "id": "30f43f65",
   "metadata": {},
   "outputs": [
    {
     "name": "stdout",
     "output_type": "stream",
     "text": [
      "<think>\n",
      "Okay, let's tackle this problem step by step. The user wants me to convert the rectangular coordinates (0, 3) to polar coordinates, ensuring that r is positive and θ is between 0 and 2π. \n",
      "\n",
      "First, I remember that converting from rectangular (x, y) to polar (r, θ) involves using the formulas r = √(x² + y²) and θ = arctan(y/x). But I need to be careful with the quadrant where the point lies. \n",
      "\n",
      "The given point is (0, 3). Let me visualize this. In the rectangular coordinate system, x is 0 and y is 3, so this is a point on the positive y-axis. \n",
      "\n",
      "Calculating r first: r = √(0² + 3²) = √(0 + 9) = √9 = 3. So r is 3, which is positive as required.\n",
      "\n",
      "Now for θ. Since x is 0 and y is positive, the point is on the positive y-axis. The arctangent of y/x would be arctan(3/0), but division by zero is undefined. However, I know that when x is 0 and y is positive, the angle is π/2 radians (90 degrees). \n",
      "\n",
      "But wait, I should confirm that θ is in the correct range. The standard range for θ is 0 ≤ θ < 2π. Since π/2 is within that range, that's fine. \n",
      "\n",
      "Alternatively, using the arctan function, if I consider the reference angle, but since x is zero, the angle must be π/2. \n",
      "\n",
      "So putting it all together, the polar coordinates should be (3, π/2). \n",
      "\n",
      "Let me double-check. If I convert back from polar to rectangular, r=3 and θ=π/2, then x = r cos θ = 3 cos(π/2) = 0, and y = r sin θ = 3 sin(π/2) = 3. That matches the original point (0, 3). \n",
      "\n",
      "Therefore, the answer should be (3, π/2). \n",
      "\n",
      "Now, considering the existence problem, the user might be asking to prove that such a polar coordinate exists. Well, since we can always convert any rectangular coordinate to polar coordinates by computing r and θ as above, and given that (0,3) is a valid point, the existence is assured. The key is ensuring θ is in the correct range, which it is here. \n",
      "\n",
      "So the final answer is (3, π/2).\n",
      "</think>\n",
      "\n",
      "@ Question-answering problem:\n",
      "```md\n",
      "Convert the point $(0,3)$ in rectangular coordinates to polar coordinates. Enter your answer in the form $(r, \\theta),$ where $r > 0$ and $0 \\le \\theta < 2 \\pi.$\n",
      "```\n",
      "\n",
      "@ Existence problem:\n",
      "```md\n",
      "Prove the existence of the point in polar coordinates $(r, \\theta),$ where $r > 0$ and $0 \\le \\theta < 2 \\pi,$ for the point $(0,3)$ in rectangular coordinates.\n",
      "```\n"
     ]
    }
   ],
   "source": [
    "output_text = output[0].outputs[0].text\n",
    "print(output_text)"
   ]
  },
  {
   "cell_type": "code",
   "execution_count": null,
   "id": "97dcd908",
   "metadata": {},
   "outputs": [],
   "source": []
  }
 ],
 "metadata": {
  "kernelspec": {
   "display_name": "LLM-env",
   "language": "python",
   "name": "python3"
  },
  "language_info": {
   "codemirror_mode": {
    "name": "ipython",
    "version": 3
   },
   "file_extension": ".py",
   "mimetype": "text/x-python",
   "name": "python",
   "nbconvert_exporter": "python",
   "pygments_lexer": "ipython3",
   "version": "3.10.15"
  }
 },
 "nbformat": 4,
 "nbformat_minor": 5
}
